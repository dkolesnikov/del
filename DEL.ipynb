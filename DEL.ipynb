{
 "cells": [
  {
   "cell_type": "code",
   "execution_count": 1,
   "metadata": {
    "code_folding": [
     0
    ],
    "collapsed": true
   },
   "outputs": [],
   "source": [
    "#import\n",
    "import numpy as np\n"
   ]
  },
  {
   "cell_type": "code",
   "execution_count": 2,
   "metadata": {
    "collapsed": false
   },
   "outputs": [
    {
     "data": {
      "application/javascript": [
       "IPython.load_extensions('IPython-notebook-extensions-3.x/usability/codefolding/main');"
      ],
      "text/plain": [
       "<IPython.core.display.Javascript object>"
      ]
     },
     "metadata": {},
     "output_type": "display_data"
    }
   ],
   "source": [
    "%%javascript\n",
    "IPython.load_extensions('IPython-notebook-extensions-3.x/usability/codefolding/main');"
   ]
  },
  {
   "cell_type": "code",
   "execution_count": 10,
   "metadata": {
    "collapsed": false
   },
   "outputs": [
    {
     "name": "stdout",
     "output_type": "stream",
     "text": [
      "[(7, 16)]\n"
     ]
    }
   ],
   "source": [
    "#Cheryl's code\n",
    "available_dates = [(5, 15), (5, 16), (5, 19),\n",
    "                  (6, 17), (6, 18),\n",
    "                  (7, 14), (7, 16),\n",
    "                  (8, 14), (8, 15), (8, 17)]\n",
    "\n",
    "def date_update(available_dates, agent_number, knowledge_flag=False):\n",
    "    cnt = {}\n",
    "    for date in available_dates:\n",
    "        if date[agent_number] not in cnt.keys():\n",
    "            cnt[date[agent_number]] = 1\n",
    "        else:    \n",
    "            cnt[date[agent_number]] = cnt[date[agent_number]] + 1\n",
    "    #print cnt\n",
    "    return [date for date in available_dates if (cnt[date[agent_number]] == 1) == knowledge_flag]\n",
    "\n",
    "\n",
    "def date_prohibition(available_dates, agent_number, number, knowledge_flag=False):\n",
    "    return [date for date in available_dates if (date[agent_number] == number) == knowledge_flag]\n",
    "\n",
    "\n",
    "def diff_set(set1, set2):\n",
    "    return [item for item in set1 if item not in set2]\n",
    "\n",
    "\n",
    "def proj(set1, agent_number):\n",
    "    proj_list = []\n",
    "    for item in set1:\n",
    "        if item[agent_number] not in proj_list:\n",
    "            proj_list.append(item[agent_number])\n",
    "    return proj_list\n",
    "\n",
    "\n",
    "def unproj(set1, agent_number, number_list):\n",
    "    return [item for item in set1 if item[agent_number] in number_list]\n",
    "    \n",
    "\n",
    "#15 мая — 16 мая — 19 мая\n",
    "#17 июня — 18 июня\n",
    "#14 июля — 16 июля\n",
    "#14 августа — 15 августа — 17 августа\n",
    "\n",
    "available_dates1 = date_update(available_dates, 1, False)\n",
    "available_dates2 = diff_set(available_dates, available_dates1)\n",
    "#print proj(available_dates2, 0)\n",
    "proj_a1_0 = diff_set(proj(available_dates, 0), proj(available_dates2, 0))\n",
    "#available_dates2 = date_update(available_dates1, 0, False)\n",
    "available_dates3 = unproj(available_dates1, 0, proj_a1_0)\n",
    "available_dates4 = date_update(available_dates3, 1, True)\n",
    "available_dates5 = date_update(available_dates4, 0, True)\n",
    "\n",
    "#print available_dates4\n",
    "print available_dates5"
   ]
  },
  {
   "cell_type": "code",
   "execution_count": 13,
   "metadata": {
    "code_folding": [
     0
    ],
    "collapsed": false
   },
   "outputs": [
    {
     "name": "stdout",
     "output_type": "stream",
     "text": [
      "0 step  20\n",
      "1 step  15\n",
      "2 step  11\n",
      "3 step  6\n",
      "4 step  4\n",
      "5 step  1 [(2002, 5, 14)]\n",
      "6 step  1\n"
     ]
    }
   ],
   "source": [
    "#Denise's code\n",
    "available_dates = [(2001, 2, 17), (2001, 3, 13), (2001, 4, 13), (2001, 5, 15), (2001, 6, 17), \n",
    "                  (2002, 3, 16), (2002, 4, 15), (2002, 5, 14), (2002, 6, 12), (2002, 8, 16),\n",
    "                  (2003, 1, 13), (2003, 2, 16), (2003, 3, 14), (2003, 4, 11), (2003, 7, 16),\n",
    "                  (2004, 1, 19), (2004, 2, 18), (2004, 5, 19), (2004, 7, 14), (2004, 8, 18)]\n",
    "\n",
    "\n",
    "def diff_set(set1, set2):\n",
    "    return [item for item in set1 if item not in set2]\n",
    "\n",
    "\n",
    "def get_possible_partdates(possible_dates, agent_number):\n",
    "    return list(set([date[agent_number] for date in possible_dates]))\n",
    "\n",
    "\n",
    "def get_possible_dates_by_partdate(possible_dates, agent_number, partday_list):\n",
    "    return [date for date in possible_dates if date[agent_number] in partday_list]\n",
    "\n",
    "\n",
    "def update_idontknow(possible_dates, agent_number, knowledge_flag=False):\n",
    "    return [date for date in possible_dates \n",
    "            if (len(get_possible_dates_by_partdate(possible_dates, agent_number, [date[agent_number]])) == 1) == knowledge_flag]\n",
    "\n",
    "\n",
    "def update_iknowyoudontknow(possible_dates, agent_number, agent_number2):\n",
    "    youknow_dates = update_idontknow(possible_dates, agent_number2, knowledge_flag=True)\n",
    "    partdate_list = diff_set(get_possible_partdates(possible_dates, agent_number), \n",
    "                           get_possible_partdates(youknow_dates, agent_number))\n",
    "    return get_possible_dates_by_partdate(possible_dates, agent_number, partdate_list)\n",
    "\n",
    "\n",
    "# Cheryl-0 - year\n",
    "# Albert-1 - month\n",
    "# Bernard-2 - day\n",
    "print '0 step ', len(available_dates)\n",
    "\n",
    "# 1 step: Albert-1: I don’t know when Denise’s birthday is, but I know that Bernard-2 does not know.\n",
    "available_dates1_0 = update_idontknow(available_dates, 1, knowledge_flag=False)\n",
    "available_dates1_1 = update_iknowyoudontknow(available_dates1_0, 1, 2)\n",
    "print '1 step ', len(available_dates1_1)\n",
    "\n",
    "# 2 step: Bernard-2: I still don’t know when Denise’s birthday is, but I know that Cheryl-0 still does not know.\n",
    "available_dates2_0 = update_idontknow(available_dates1_1, 2, knowledge_flag=False)\n",
    "available_dates2_1 = update_iknowyoudontknow(available_dates2_0, 2, 0)\n",
    "print '2 step ', len(available_dates2_1)\n",
    "\n",
    "# 3 step: Cheryl-0: I still don’t know when Denise’s birthday is, but I know that Albert still does not know.\n",
    "available_dates3_0 = update_idontknow(available_dates2_1, 0, knowledge_flag=False)\n",
    "available_dates3_1 = update_iknowyoudontknow(available_dates3_0, 0, 1)\n",
    "print '3 step ', len(available_dates3_1)\n",
    "\n",
    "# 4 step: Albert-1:Now I know when Denise’s birthday is.\n",
    "available_dates4_0 = update_idontknow(available_dates3_1, 1, knowledge_flag=True)\n",
    "print '4 step ', len(available_dates4_0)\n",
    "\n",
    "# 5 step: Bernard-2: Now I know too.\n",
    "available_dates5_0 = update_idontknow(available_dates4_0, 2, knowledge_flag=True)\n",
    "print '5 step ', len(available_dates5_0), available_dates5_0\n",
    "\n",
    "# 6 step: Cheryl-0: Me too.\n",
    "available_dates6_0 = update_idontknow(available_dates5_0, 0, knowledge_flag=True)\n",
    "print '6 step ', len(available_dates6_0)"
   ]
  },
  {
   "cell_type": "code",
   "execution_count": 15,
   "metadata": {
    "code_folding": [],
    "collapsed": false
   },
   "outputs": [],
   "source": [
    "#\n",
    "worlds_set = []\n",
    "#possible_worlds = [()]\n",
    "\n",
    "#define the part that agent can see\n",
    "def get_world_part(world, agent):\n",
    "    return None\n",
    "\n",
    "\n",
    "#\n",
    "def filter_worlds_by_fixed_parts(possible_worlds, agent, fixedpart_list):\n",
    "    return [world for world in possible_worlds if get_world_part(world, agent) in fixedpart_list]\n",
    "   \n",
    "    \n",
    "def get_possible_parts_of_worlds(possible_worlds, agent):\n",
    "    return list(set([get_world_part(world, agent) for world in possible_worlds]))\n",
    "    \n",
    "    \n",
    "def is_proposition_nessesary(worlds_set, agent, props):\n",
    "    return\n",
    "    \n",
    "    \n",
    "def agent_know_proposition(possible_worlds, agent, proposition):\n",
    "    possible_fixedparts = [fixedpart for fixepart in get_possible_parts_of_worlds(possible_worlds, agent)\n",
    "                    if np.all([proposition(possible_worlds, wolrds, agent) \n",
    "                        for world in filter_worlds_by_fixed_parts(possible_worlds, agent, [fixedpart])])]\n",
    "    return \n",
    "\n",
    "\n",
    "def proposition(possible_worlds, world, agent):\n",
    "    return None"
   ]
  },
  {
   "cell_type": "code",
   "execution_count": 30,
   "metadata": {
    "code_folding": [
     0
    ],
    "collapsed": true
   },
   "outputs": [],
   "source": [
    "#New version\n",
    "def get_world_class(world, agent):\n",
    "    return None\n",
    "\n",
    "\n",
    "def proposition(possible_worlds, world, agent):\n",
    "    return None\n",
    "\n",
    "\n",
    "def get_class_list(possible_worlds, agent):\n",
    "    #return list(set([tuple(get_world_class(world, agent)) for world in possible_worlds]))\n",
    "    return list(set([get_world_class(world, agent) for world in possible_worlds]))\n",
    "\n",
    "\n",
    "def filter_worlds_by_class_list(possible_worlds, agent, class_list):\n",
    "    return [world for world in possible_worlds if get_world_class(world, agent) in class_list]\n",
    "\n",
    "\n",
    "def is_proposition_necessary(possible_worlds, class_list, agent, prop):\n",
    "    return np.all([prop(possible_worlds, world, agent) for world in possible_worlds if get_world_class(world, agent) in class_list])\n",
    "\n",
    "\n",
    "def agent_know_proposition(possible_worlds, agent, prop):\n",
    "    possible_class_list = [world_class for world_class in get_class_list(possible_worlds, agent)\n",
    "                    if np.all([prop(possible_worlds, wolrds, agent) \n",
    "                        for world in filter_worlds_by_class_list(possible_worlds, agent, [world_class])])]\n",
    "    return filter_worlds_by_class_list(possible_worlds, agent, possible_class_list)"
   ]
  },
  {
   "cell_type": "code",
   "execution_count": 32,
   "metadata": {
    "collapsed": false
   },
   "outputs": [
    {
     "name": "stdout",
     "output_type": "stream",
     "text": [
      "[(0, 0, 1), (0, 1, 0), (0, 1, 1), (1, 0, 0), (1, 0, 1), (1, 1, 0), (1, 1, 1)]\n"
     ]
    }
   ],
   "source": [
    "# world = (1, 0, 1)\n",
    "possible_worlds = []\n",
    "n0, n1 = 2, 3\n",
    "for i in xrange(2):\n",
    "    for j in xrange(2):\n",
    "        for k in xrange(2):\n",
    "            if i + j + k > 0:\n",
    "                #if i + j + k >= 3 - n0 and i + j + k <= n1:\n",
    "                possible_worlds.append((i, j, k))\n",
    "                \n",
    "print possible_worlds"
   ]
  },
  {
   "cell_type": "code",
   "execution_count": 37,
   "metadata": {
    "collapsed": true
   },
   "outputs": [],
   "source": [
    "import copy\n",
    "def get_world_class(world, agent):\n",
    "    world_class = list(world)\n",
    "    world_class[agent] = -1\n",
    "    return tuple(world_class)"
   ]
  },
  {
   "cell_type": "code",
   "execution_count": 38,
   "metadata": {
    "code_folding": [],
    "collapsed": false
   },
   "outputs": [
    {
     "data": {
      "text/plain": [
       "[(-1, 1, 0), (-1, 0, 0), (-1, 0, 1), (-1, 1, 1)]"
      ]
     },
     "execution_count": 38,
     "metadata": {},
     "output_type": "execute_result"
    }
   ],
   "source": [
    "get_class_list(possible_worlds, 0)"
   ]
  },
  {
   "cell_type": "code",
   "execution_count": 39,
   "metadata": {
    "collapsed": true
   },
   "outputs": [],
   "source": [
    "def update_idontknow(possible_worlds, agent, knowledge_flag=False):\n",
    "    return [world for world in possible_worlds \n",
    "            if (len(filter_worlds_by_class_list(possible_worlds, agent, [get_world_class(world, agent)])) == 1) == knowledge_flag]\n"
   ]
  },
  {
   "cell_type": "code",
   "execution_count": 44,
   "metadata": {
    "collapsed": false
   },
   "outputs": [
    {
     "name": "stdout",
     "output_type": "stream",
     "text": [
      "7\n",
      "6\n",
      "4\n",
      "[(0, 0, 1), (0, 1, 1), (1, 0, 1), (1, 1, 1)]\n"
     ]
    }
   ],
   "source": [
    "print len(possible_worlds)\n",
    "possible_worlds1 = update_idontknow(possible_worlds, 0, knowledge_flag=False)\n",
    "print len(possible_worlds1)\n",
    "possible_worlds2 = update_idontknow(possible_worlds1, 1, knowledge_flag=False)\n",
    "print len(possible_worlds2)\n",
    "print possible_worlds2"
   ]
  },
  {
   "cell_type": "code",
   "execution_count": null,
   "metadata": {
    "collapsed": true
   },
   "outputs": [],
   "source": []
  }
 ],
 "metadata": {
  "kernelspec": {
   "display_name": "Python 2",
   "language": "python",
   "name": "python2"
  },
  "language_info": {
   "codemirror_mode": {
    "name": "ipython",
    "version": 2
   },
   "file_extension": ".py",
   "mimetype": "text/x-python",
   "name": "python",
   "nbconvert_exporter": "python",
   "pygments_lexer": "ipython2",
   "version": "2.7.10"
  }
 },
 "nbformat": 4,
 "nbformat_minor": 0
}
